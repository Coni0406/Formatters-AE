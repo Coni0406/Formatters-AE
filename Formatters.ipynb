{
  "nbformat": 4,
  "nbformat_minor": 0,
  "metadata": {
    "colab": {
      "provenance": []
    },
    "kernelspec": {
      "name": "python3",
      "display_name": "Python 3"
    },
    "language_info": {
      "name": "python"
    }
  },
  "cells": [
    {
      "cell_type": "code",
      "execution_count": 26,
      "metadata": {
        "colab": {
          "base_uri": "https://localhost:8080/"
        },
        "collapsed": true,
        "id": "zSw-3v1iVE5B",
        "outputId": "188fe161-8c06-48be-a9c4-aca601cfdd0d"
      },
      "outputs": [
        {
          "output_type": "stream",
          "name": "stdout",
          "text": [
            "Requirement already satisfied: black in /usr/local/lib/python3.10/dist-packages (24.10.0)\n",
            "Requirement already satisfied: autopep8 in /usr/local/lib/python3.10/dist-packages (2.3.1)\n",
            "Requirement already satisfied: yapf in /usr/local/lib/python3.10/dist-packages (0.43.0)\n",
            "Collecting pylint\n",
            "  Downloading pylint-3.3.2-py3-none-any.whl.metadata (12 kB)\n",
            "Requirement already satisfied: click>=8.0.0 in /usr/local/lib/python3.10/dist-packages (from black) (8.1.7)\n",
            "Requirement already satisfied: mypy-extensions>=0.4.3 in /usr/local/lib/python3.10/dist-packages (from black) (1.0.0)\n",
            "Requirement already satisfied: packaging>=22.0 in /usr/local/lib/python3.10/dist-packages (from black) (24.2)\n",
            "Requirement already satisfied: pathspec>=0.9.0 in /usr/local/lib/python3.10/dist-packages (from black) (0.12.1)\n",
            "Requirement already satisfied: platformdirs>=2 in /usr/local/lib/python3.10/dist-packages (from black) (4.3.6)\n",
            "Requirement already satisfied: tomli>=1.1.0 in /usr/local/lib/python3.10/dist-packages (from black) (2.1.0)\n",
            "Requirement already satisfied: typing-extensions>=4.0.1 in /usr/local/lib/python3.10/dist-packages (from black) (4.12.2)\n",
            "Requirement already satisfied: pycodestyle>=2.12.0 in /usr/local/lib/python3.10/dist-packages (from autopep8) (2.12.1)\n",
            "Collecting dill>=0.2 (from pylint)\n",
            "  Downloading dill-0.3.9-py3-none-any.whl.metadata (10 kB)\n",
            "Collecting astroid<=3.4.0-dev0,>=3.3.5 (from pylint)\n",
            "  Downloading astroid-3.3.5-py3-none-any.whl.metadata (4.5 kB)\n",
            "Collecting isort!=5.13.0,<6,>=4.2.5 (from pylint)\n",
            "  Downloading isort-5.13.2-py3-none-any.whl.metadata (12 kB)\n",
            "Collecting mccabe<0.8,>=0.6 (from pylint)\n",
            "  Downloading mccabe-0.7.0-py2.py3-none-any.whl.metadata (5.0 kB)\n",
            "Collecting tomlkit>=0.10.1 (from pylint)\n",
            "  Downloading tomlkit-0.13.2-py3-none-any.whl.metadata (2.7 kB)\n",
            "Downloading pylint-3.3.2-py3-none-any.whl (521 kB)\n",
            "\u001b[2K   \u001b[90m━━━━━━━━━━━━━━━━━━━━━━━━━━━━━━━━━━━━━━━━\u001b[0m \u001b[32m521.9/521.9 kB\u001b[0m \u001b[31m8.1 MB/s\u001b[0m eta \u001b[36m0:00:00\u001b[0m\n",
            "\u001b[?25hDownloading astroid-3.3.5-py3-none-any.whl (274 kB)\n",
            "\u001b[2K   \u001b[90m━━━━━━━━━━━━━━━━━━━━━━━━━━━━━━━━━━━━━━━━\u001b[0m \u001b[32m274.6/274.6 kB\u001b[0m \u001b[31m18.8 MB/s\u001b[0m eta \u001b[36m0:00:00\u001b[0m\n",
            "\u001b[?25hDownloading dill-0.3.9-py3-none-any.whl (119 kB)\n",
            "\u001b[2K   \u001b[90m━━━━━━━━━━━━━━━━━━━━━━━━━━━━━━━━━━━━━━━━\u001b[0m \u001b[32m119.4/119.4 kB\u001b[0m \u001b[31m9.1 MB/s\u001b[0m eta \u001b[36m0:00:00\u001b[0m\n",
            "\u001b[?25hDownloading isort-5.13.2-py3-none-any.whl (92 kB)\n",
            "\u001b[2K   \u001b[90m━━━━━━━━━━━━━━━━━━━━━━━━━━━━━━━━━━━━━━━━\u001b[0m \u001b[32m92.3/92.3 kB\u001b[0m \u001b[31m5.5 MB/s\u001b[0m eta \u001b[36m0:00:00\u001b[0m\n",
            "\u001b[?25hDownloading mccabe-0.7.0-py2.py3-none-any.whl (7.3 kB)\n",
            "Downloading tomlkit-0.13.2-py3-none-any.whl (37 kB)\n",
            "Installing collected packages: tomlkit, mccabe, isort, dill, astroid, pylint\n",
            "Successfully installed astroid-3.3.5 dill-0.3.9 isort-5.13.2 mccabe-0.7.0 pylint-3.3.2 tomlkit-0.13.2\n"
          ]
        }
      ],
      "source": [
        "# Instalación de los formatters\n",
        "!pip install black autopep8 yapf pylint"
      ]
    },
    {
      "cell_type": "code",
      "source": [
        "import black\n",
        "\n",
        "codigo = '''def  funcionDeEjemplo   ( parametro1 , parametro2 =   10  ) :\n",
        "    if  parametro1  <  parametro2 :\n",
        "        print ( \"parametro1 es menor que parametro2\" )\n",
        "    for i in range ( 0 , 5 ):\n",
        "        print(\"Iteración\",i)\n",
        "    return  parametro1 +   parametro2\n",
        "\n",
        "def otroEjemplo (  a, b ,  c = [1, 2 ,3], d = { 'clave' : 'valor'  }  ) :\n",
        "    if   a ==  b  :   print(\"Iguales\")\n",
        "    elif  a != b   : print (  \"No Iguales\" ) ;\n",
        "    return c, d\n",
        "\n",
        "funcionDeEjemplo ( 5 , 20 )\n",
        "otroEjemplo (  10 , 10 ,  [1, 2, 3] , {'clave':'valor'} )'''\n",
        "\n",
        "codigo_formateado = black.format_str(codigo, mode=black.Mode())\n",
        "print(codigo_formateado)"
      ],
      "metadata": {
        "colab": {
          "base_uri": "https://localhost:8080/"
        },
        "id": "8BuJDhwkY6Zf",
        "outputId": "b05de4ca-f603-404d-931f-7da3a8735e20"
      },
      "execution_count": 3,
      "outputs": [
        {
          "output_type": "stream",
          "name": "stdout",
          "text": [
            "def funcionDeEjemplo(parametro1, parametro2=10):\n",
            "    if parametro1 < parametro2:\n",
            "        print(\"parametro1 es menor que parametro2\")\n",
            "    for i in range(0, 5):\n",
            "        print(\"Iteración\", i)\n",
            "    return parametro1 + parametro2\n",
            "\n",
            "\n",
            "def otroEjemplo(a, b, c=[1, 2, 3], d={\"clave\": \"valor\"}):\n",
            "    if a == b:\n",
            "        print(\"Iguales\")\n",
            "    elif a != b:\n",
            "        print(\"No Iguales\")\n",
            "    return c, d\n",
            "\n",
            "\n",
            "funcionDeEjemplo(5, 20)\n",
            "otroEjemplo(10, 10, [1, 2, 3], {\"clave\": \"valor\"})\n",
            "\n"
          ]
        }
      ]
    },
    {
      "cell_type": "code",
      "source": [
        "import autopep8\n",
        "\n",
        "codigo = '''def obtener_nombre( nombre , apellido):\n",
        "    return nombre+\" \"+apellido\n",
        "\n",
        "def es_igual( num1 , num2):\n",
        "    if num1 == num2 :\n",
        "        return True\n",
        "    else :\n",
        "        return False\n",
        "\n",
        "print(obtener_nombre(\"Juan\", \"Pérez\"))\n",
        "print(es_igual(10, 20))'''\n",
        "\n",
        "codigo_formateado = autopep8.fix_code(codigo)\n",
        "print(codigo_formateado)"
      ],
      "metadata": {
        "colab": {
          "base_uri": "https://localhost:8080/"
        },
        "id": "SZNYLEjuY-es",
        "outputId": "268b552a-24e4-466a-ce07-a139173ca8c0"
      },
      "execution_count": 5,
      "outputs": [
        {
          "output_type": "stream",
          "name": "stdout",
          "text": [
            "def obtener_nombre(nombre, apellido):\n",
            "    return nombre+\" \"+apellido\n",
            "\n",
            "\n",
            "def es_igual(num1, num2):\n",
            "    if num1 == num2:\n",
            "        return True\n",
            "    else:\n",
            "        return False\n",
            "\n",
            "\n",
            "print(obtener_nombre(\"Juan\", \"Pérez\"))\n",
            "print(es_igual(10, 20))\n",
            "\n"
          ]
        }
      ]
    },
    {
      "cell_type": "code",
      "source": [
        "import yapf\n",
        "\n",
        "codigo = '''\n",
        "def ejemplo_error_espacios(a, b, c=10):\n",
        "    if a > c:\n",
        "        print(\"A es mayor que C\")\n",
        "    else:\n",
        "        print(\"A no es mayor que C\")\n",
        "    return a + b\n",
        "'''\n",
        "\n",
        "codigo_formateado, _ = yapf.yapf_api.FormatCode(codigo)\n",
        "print(codigo_formateado)"
      ],
      "metadata": {
        "colab": {
          "base_uri": "https://localhost:8080/"
        },
        "id": "NHajn0qfZB7v",
        "outputId": "4063808c-467d-4c11-f5eb-0399114ac42a"
      },
      "execution_count": 11,
      "outputs": [
        {
          "output_type": "stream",
          "name": "stdout",
          "text": [
            "def ejemplo_error_espacios(a, b, c=10):\n",
            "    if a > c:\n",
            "        print(\"A es mayor que C\")\n",
            "    else:\n",
            "        print(\"A no es mayor que C\")\n",
            "    return a + b\n",
            "\n"
          ]
        }
      ]
    },
    {
      "cell_type": "code",
      "source": [
        "import subprocess\n",
        "import autopep8\n",
        "\n",
        "# Código de ejemplo que será formateado\n",
        "codigo = '''\n",
        "def funcionDeEjemplo(parametro1, parametro2=10):\n",
        "    if parametro1 < parametro2:\n",
        "        print(\"parametro1 es menor que parametro2\")\n",
        "    for i in range(0, 5):\n",
        "        print(\"Iteración\", i)\n",
        "    return parametro1 + parametro2\n",
        "\n",
        "def otroEjemplo(a, b, c=[1, 2, 3], d={'clave': 'valor'}):\n",
        "    if a == b:\n",
        "        print(\"Iguales\")\n",
        "    elif a != b:\n",
        "        print(\"No Iguales\")\n",
        "    return c, d\n",
        "\n",
        "funcionDeEjemplo(5, 20)\n",
        "otroEjemplo(10, 10, [1, 2, 3], {'clave': 'valor'})\n",
        "'''\n",
        "\n",
        "# Usar autopep8 para formatear el código\n",
        "codigo_formateado = autopep8.fix_code(codigo)\n",
        "\n",
        "# Mostrar el código formateado\n",
        "print(\"Código Formateado:\\n\")\n",
        "print(codigo_formateado)\n",
        "\n",
        "# Ejecutar pylint en el código formateado\n",
        "# Como estamos usando un string en lugar de un archivo, tenemos que escribirlo a un archivo temporal\n",
        "with open('codigo_temporal.py', 'w') as temp_file:\n",
        "    temp_file.write(codigo_formateado)\n",
        "\n",
        "# Ejecutar pylint sobre el archivo temporal\n",
        "result = subprocess.run(['pylint', 'codigo_temporal.py'], stdout=subprocess.PIPE, stderr=subprocess.PIPE)\n",
        "\n",
        "# Mostrar el resultado de pylint (análisis)\n",
        "print(\"\\nResultados de pylint:\\n\")\n",
        "print(result.stdout.decode())\n",
        "\n",
        "# Eliminar el archivo temporal después de análisis\n",
        "import os\n",
        "os.remove('codigo_temporal.py')"
      ],
      "metadata": {
        "colab": {
          "base_uri": "https://localhost:8080/"
        },
        "id": "_Itbp2lnZlnZ",
        "outputId": "c115d9f1-3f01-46e6-9351-d239c1171b7a"
      },
      "execution_count": 27,
      "outputs": [
        {
          "output_type": "stream",
          "name": "stdout",
          "text": [
            "Código Formateado:\n",
            "\n",
            "\n",
            "def funcionDeEjemplo(parametro1, parametro2=10):\n",
            "    if parametro1 < parametro2:\n",
            "        print(\"parametro1 es menor que parametro2\")\n",
            "    for i in range(0, 5):\n",
            "        print(\"Iteración\", i)\n",
            "    return parametro1 + parametro2\n",
            "\n",
            "\n",
            "def otroEjemplo(a, b, c=[1, 2, 3], d={'clave': 'valor'}):\n",
            "    if a == b:\n",
            "        print(\"Iguales\")\n",
            "    elif a != b:\n",
            "        print(\"No Iguales\")\n",
            "    return c, d\n",
            "\n",
            "\n",
            "funcionDeEjemplo(5, 20)\n",
            "otroEjemplo(10, 10, [1, 2, 3], {'clave': 'valor'})\n",
            "\n",
            "\n",
            "Resultados de pylint:\n",
            "\n",
            "************* Module codigo_temporal\n",
            "codigo_temporal.py:1:0: C0114: Missing module docstring (missing-module-docstring)\n",
            "codigo_temporal.py:2:0: C0116: Missing function or method docstring (missing-function-docstring)\n",
            "codigo_temporal.py:2:0: C0103: Function name \"funcionDeEjemplo\" doesn't conform to snake_case naming style (invalid-name)\n",
            "codigo_temporal.py:10:0: C0116: Missing function or method docstring (missing-function-docstring)\n",
            "codigo_temporal.py:10:0: C0103: Function name \"otroEjemplo\" doesn't conform to snake_case naming style (invalid-name)\n",
            "codigo_temporal.py:10:0: W0102: Dangerous default value [] as argument (dangerous-default-value)\n",
            "codigo_temporal.py:10:0: W0102: Dangerous default value {} as argument (dangerous-default-value)\n",
            "\n",
            "-----------------------------------\n",
            "Your code has been rated at 5.00/10\n",
            "\n",
            "\n"
          ]
        }
      ]
    }
  ]
}